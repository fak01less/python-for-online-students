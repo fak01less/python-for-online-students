{
 "cells": [
  {
   "cell_type": "code",
   "execution_count": 18,
   "metadata": {},
   "outputs": [
    {
     "name": "stdout",
     "output_type": "stream",
     "text": [
      "enter your percentage 32.9\n",
      "your grade is F\n"
     ]
    }
   ],
   "source": [
    "a=float(input(\"enter your percentage \"))\n",
    "if a>=80 and a<=100:\n",
    "  print(\"your grade is A+\")\n",
    "if a>=70 and a<80:\n",
    "  print(\"your grade is A\")\n",
    "if a>=60 and a<70:\n",
    "  print(\"your grade is B\")\n",
    "if a>=50 and a<60:\n",
    "  print(\"your grade is c\")\n",
    "if a>=40 and a<50:\n",
    "  print(\"your grade is D\")\n",
    "if a>=33 and a<=40:\n",
    "  print(\"your grade is E\")\n",
    "if a<33:\n",
    "  print(\"your grade is F\")\n"
   ]
  },
  {
   "cell_type": "code",
   "execution_count": null,
   "metadata": {},
   "outputs": [],
   "source": []
  },
  {
   "cell_type": "code",
   "execution_count": null,
   "metadata": {},
   "outputs": [],
   "source": []
  }
 ],
 "metadata": {
  "kernelspec": {
   "display_name": "Python 3",
   "language": "python",
   "name": "python3"
  },
  "language_info": {
   "codemirror_mode": {
    "name": "ipython",
    "version": 3
   },
   "file_extension": ".py",
   "mimetype": "text/x-python",
   "name": "python",
   "nbconvert_exporter": "python",
   "pygments_lexer": "ipython3",
   "version": "3.7.4"
  }
 },
 "nbformat": 4,
 "nbformat_minor": 2
}
